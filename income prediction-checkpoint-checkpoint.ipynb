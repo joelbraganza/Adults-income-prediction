{
 "cells": [
  {
   "cell_type": "markdown",
   "metadata": {},
   "source": [
    "# Income Classification \n"
   ]
  },
  {
   "cell_type": "markdown",
   "metadata": {},
   "source": [
    "Let's import the necessary libraries"
   ]
  },
  {
   "cell_type": "code",
   "execution_count": 1,
   "metadata": {},
   "outputs": [],
   "source": [
    "import pandas as pd\n",
    "import numpy as np\n",
    "from matplotlib import pyplot as plt\n",
    "from sklearn.utils import shuffle\n",
    "import seaborn as sns"
   ]
  },
  {
   "cell_type": "markdown",
   "metadata": {},
   "source": [
    "Let's have a look at the dataset"
   ]
  },
  {
   "cell_type": "code",
   "execution_count": 216,
   "metadata": {},
   "outputs": [
    {
     "name": "stdout",
     "output_type": "stream",
     "text": [
      "(48842, 15)\n"
     ]
    },
    {
     "data": {
      "text/html": [
       "<div>\n",
       "<style scoped>\n",
       "    .dataframe tbody tr th:only-of-type {\n",
       "        vertical-align: middle;\n",
       "    }\n",
       "\n",
       "    .dataframe tbody tr th {\n",
       "        vertical-align: top;\n",
       "    }\n",
       "\n",
       "    .dataframe thead th {\n",
       "        text-align: right;\n",
       "    }\n",
       "</style>\n",
       "<table border=\"1\" class=\"dataframe\">\n",
       "  <thead>\n",
       "    <tr style=\"text-align: right;\">\n",
       "      <th></th>\n",
       "      <th>age</th>\n",
       "      <th>workclass</th>\n",
       "      <th>fnlwgt</th>\n",
       "      <th>education</th>\n",
       "      <th>educational-num</th>\n",
       "      <th>marital-status</th>\n",
       "      <th>occupation</th>\n",
       "      <th>relationship</th>\n",
       "      <th>race</th>\n",
       "      <th>gender</th>\n",
       "      <th>capital-gain</th>\n",
       "      <th>capital-loss</th>\n",
       "      <th>hours-per-week</th>\n",
       "      <th>native-country</th>\n",
       "      <th>income</th>\n",
       "    </tr>\n",
       "  </thead>\n",
       "  <tbody>\n",
       "    <tr>\n",
       "      <th>0</th>\n",
       "      <td>25</td>\n",
       "      <td>Private</td>\n",
       "      <td>226802</td>\n",
       "      <td>11th</td>\n",
       "      <td>7</td>\n",
       "      <td>Never-married</td>\n",
       "      <td>Machine-op-inspct</td>\n",
       "      <td>Own-child</td>\n",
       "      <td>Black</td>\n",
       "      <td>Male</td>\n",
       "      <td>0</td>\n",
       "      <td>0</td>\n",
       "      <td>40</td>\n",
       "      <td>United-States</td>\n",
       "      <td>&lt;=50K</td>\n",
       "    </tr>\n",
       "    <tr>\n",
       "      <th>1</th>\n",
       "      <td>38</td>\n",
       "      <td>Private</td>\n",
       "      <td>89814</td>\n",
       "      <td>HS-grad</td>\n",
       "      <td>9</td>\n",
       "      <td>Married-civ-spouse</td>\n",
       "      <td>Farming-fishing</td>\n",
       "      <td>Husband</td>\n",
       "      <td>White</td>\n",
       "      <td>Male</td>\n",
       "      <td>0</td>\n",
       "      <td>0</td>\n",
       "      <td>50</td>\n",
       "      <td>United-States</td>\n",
       "      <td>&lt;=50K</td>\n",
       "    </tr>\n",
       "    <tr>\n",
       "      <th>2</th>\n",
       "      <td>28</td>\n",
       "      <td>Local-gov</td>\n",
       "      <td>336951</td>\n",
       "      <td>Assoc-acdm</td>\n",
       "      <td>12</td>\n",
       "      <td>Married-civ-spouse</td>\n",
       "      <td>Protective-serv</td>\n",
       "      <td>Husband</td>\n",
       "      <td>White</td>\n",
       "      <td>Male</td>\n",
       "      <td>0</td>\n",
       "      <td>0</td>\n",
       "      <td>40</td>\n",
       "      <td>United-States</td>\n",
       "      <td>&gt;50K</td>\n",
       "    </tr>\n",
       "    <tr>\n",
       "      <th>3</th>\n",
       "      <td>44</td>\n",
       "      <td>Private</td>\n",
       "      <td>160323</td>\n",
       "      <td>Some-college</td>\n",
       "      <td>10</td>\n",
       "      <td>Married-civ-spouse</td>\n",
       "      <td>Machine-op-inspct</td>\n",
       "      <td>Husband</td>\n",
       "      <td>Black</td>\n",
       "      <td>Male</td>\n",
       "      <td>7688</td>\n",
       "      <td>0</td>\n",
       "      <td>40</td>\n",
       "      <td>United-States</td>\n",
       "      <td>&gt;50K</td>\n",
       "    </tr>\n",
       "    <tr>\n",
       "      <th>4</th>\n",
       "      <td>18</td>\n",
       "      <td>?</td>\n",
       "      <td>103497</td>\n",
       "      <td>Some-college</td>\n",
       "      <td>10</td>\n",
       "      <td>Never-married</td>\n",
       "      <td>?</td>\n",
       "      <td>Own-child</td>\n",
       "      <td>White</td>\n",
       "      <td>Female</td>\n",
       "      <td>0</td>\n",
       "      <td>0</td>\n",
       "      <td>30</td>\n",
       "      <td>United-States</td>\n",
       "      <td>&lt;=50K</td>\n",
       "    </tr>\n",
       "  </tbody>\n",
       "</table>\n",
       "</div>"
      ],
      "text/plain": [
       "   age  workclass  fnlwgt     education  educational-num      marital-status  \\\n",
       "0   25    Private  226802          11th                7       Never-married   \n",
       "1   38    Private   89814       HS-grad                9  Married-civ-spouse   \n",
       "2   28  Local-gov  336951    Assoc-acdm               12  Married-civ-spouse   \n",
       "3   44    Private  160323  Some-college               10  Married-civ-spouse   \n",
       "4   18          ?  103497  Some-college               10       Never-married   \n",
       "\n",
       "          occupation relationship   race  gender  capital-gain  capital-loss  \\\n",
       "0  Machine-op-inspct    Own-child  Black    Male             0             0   \n",
       "1    Farming-fishing      Husband  White    Male             0             0   \n",
       "2    Protective-serv      Husband  White    Male             0             0   \n",
       "3  Machine-op-inspct      Husband  Black    Male          7688             0   \n",
       "4                  ?    Own-child  White  Female             0             0   \n",
       "\n",
       "   hours-per-week native-country income  \n",
       "0              40  United-States  <=50K  \n",
       "1              50  United-States  <=50K  \n",
       "2              40  United-States   >50K  \n",
       "3              40  United-States   >50K  \n",
       "4              30  United-States  <=50K  "
      ]
     },
     "execution_count": 216,
     "metadata": {},
     "output_type": "execute_result"
    }
   ],
   "source": [
    "df = pd.read_csv(r'D:\\joel\\UDEMY -\\datasets and codes\\Notebooks\\.ipynb_checkpoints\\income prediction\\adult.csv')\n",
    "print (df.shape)\n",
    "df.head()"
   ]
  },
  {
   "cell_type": "markdown",
   "metadata": {},
   "source": [
    "The dataset has many(48K+) observations with 15 variables.\n",
    "We are trying to classify the target variable 'income'."
   ]
  },
  {
   "cell_type": "markdown",
   "metadata": {},
   "source": [
    "Let's look at the unique classes in 'income' and a it's distribution graphically too."
   ]
  },
  {
   "cell_type": "code",
   "execution_count": 217,
   "metadata": {},
   "outputs": [
    {
     "data": {
      "text/plain": [
       "<=50K    0.760718\n",
       ">50K     0.239282\n",
       "Name: income, dtype: float64"
      ]
     },
     "execution_count": 217,
     "metadata": {},
     "output_type": "execute_result"
    },
    {
     "data": {
      "image/png": "[encoded data removed]",
      "text/plain": [
       "<Figure size 432x288 with 1 Axes>"
      ]
     },
     "metadata": {
      "needs_background": "light"
     },
     "output_type": "display_data"
    }
   ],
   "source": [
    "df['income'].value_counts().plot(kind='bar')\n",
    "df['income'].value_counts()/df.shape[0]"
   ]
  },
  {
   "cell_type": "markdown",
   "metadata": {},
   "source": [
    "We can see there are 2 categories in income, <=50k and >=50K, their quantities are imbalanced(1:3)\n",
    "We can do the balancing of the dataset later.\n",
    "First let's numeric encode them."
   ]
  },
  {
   "cell_type": "code",
   "execution_count": 218,
   "metadata": {},
   "outputs": [
    {
     "data": {
      "text/plain": [
       "array([0, 1], dtype=int64)"
      ]
     },
     "execution_count": 218,
     "metadata": {},
     "output_type": "execute_result"
    }
   ],
   "source": [
    "df['income'] = df['income'].replace(['<=50K'],0)\n",
    "df['income'] = df['income'].replace(['>50K'],1)\n",
    "df['income'].unique()"
   ]
  },
  {
   "cell_type": "markdown",
   "metadata": {},
   "source": [
    "We can see the '?' symbol indicating presence of missing data. let's replace them with NULL datatype for imputation later."
   ]
  },
  {
   "cell_type": "code",
   "execution_count": 219,
   "metadata": {},
   "outputs": [
    {
     "data": {
      "text/html": [
       "<div>\n",
       "<style scoped>\n",
       "    .dataframe tbody tr th:only-of-type {\n",
       "        vertical-align: middle;\n",
       "    }\n",
       "\n",
       "    .dataframe tbody tr th {\n",
       "        vertical-align: top;\n",
       "    }\n",
       "\n",
       "    .dataframe thead th {\n",
       "        text-align: right;\n",
       "    }\n",
       "</style>\n",
       "<table border=\"1\" class=\"dataframe\">\n",
       "  <thead>\n",
       "    <tr style=\"text-align: right;\">\n",
       "      <th></th>\n",
       "      <th>age</th>\n",
       "      <th>workclass</th>\n",
       "      <th>fnlwgt</th>\n",
       "      <th>education</th>\n",
       "      <th>educational-num</th>\n",
       "      <th>marital-status</th>\n",
       "      <th>occupation</th>\n",
       "      <th>relationship</th>\n",
       "      <th>race</th>\n",
       "      <th>gender</th>\n",
       "      <th>capital-gain</th>\n",
       "      <th>capital-loss</th>\n",
       "      <th>hours-per-week</th>\n",
       "      <th>native-country</th>\n",
       "      <th>income</th>\n",
       "    </tr>\n",
       "  </thead>\n",
       "  <tbody>\n",
       "    <tr>\n",
       "      <th>0</th>\n",
       "      <td>25</td>\n",
       "      <td>Private</td>\n",
       "      <td>226802</td>\n",
       "      <td>11th</td>\n",
       "      <td>7</td>\n",
       "      <td>Never-married</td>\n",
       "      <td>Machine-op-inspct</td>\n",
       "      <td>Own-child</td>\n",
       "      <td>Black</td>\n",
       "      <td>Male</td>\n",
       "      <td>0</td>\n",
       "      <td>0</td>\n",
       "      <td>40</td>\n",
       "      <td>United-States</td>\n",
       "      <td>0</td>\n",
       "    </tr>\n",
       "    <tr>\n",
       "      <th>1</th>\n",
       "      <td>38</td>\n",
       "      <td>Private</td>\n",
       "      <td>89814</td>\n",
       "      <td>HS-grad</td>\n",
       "      <td>9</td>\n",
       "      <td>Married-civ-spouse</td>\n",
       "      <td>Farming-fishing</td>\n",
       "      <td>Husband</td>\n",
       "      <td>White</td>\n",
       "      <td>Male</td>\n",
       "      <td>0</td>\n",
       "      <td>0</td>\n",
       "      <td>50</td>\n",
       "      <td>United-States</td>\n",
       "      <td>0</td>\n",
       "    </tr>\n",
       "    <tr>\n",
       "      <th>2</th>\n",
       "      <td>28</td>\n",
       "      <td>Local-gov</td>\n",
       "      <td>336951</td>\n",
       "      <td>Assoc-acdm</td>\n",
       "      <td>12</td>\n",
       "      <td>Married-civ-spouse</td>\n",
       "      <td>Protective-serv</td>\n",
       "      <td>Husband</td>\n",
       "      <td>White</td>\n",
       "      <td>Male</td>\n",
       "      <td>0</td>\n",
       "      <td>0</td>\n",
       "      <td>40</td>\n",
       "      <td>United-States</td>\n",
       "      <td>1</td>\n",
       "    </tr>\n",
       "    <tr>\n",
       "      <th>3</th>\n",
       "      <td>44</td>\n",
       "      <td>Private</td>\n",
       "      <td>160323</td>\n",
       "      <td>Some-college</td>\n",
       "      <td>10</td>\n",
       "      <td>Married-civ-spouse</td>\n",
       "      <td>Machine-op-inspct</td>\n",
       "      <td>Husband</td>\n",
       "      <td>Black</td>\n",
       "      <td>Male</td>\n",
       "      <td>7688</td>\n",
       "      <td>0</td>\n",
       "      <td>40</td>\n",
       "      <td>United-States</td>\n",
       "      <td>1</td>\n",
       "    </tr>\n",
       "    <tr>\n",
       "      <th>4</th>\n",
       "      <td>18</td>\n",
       "      <td>NaN</td>\n",
       "      <td>103497</td>\n",
       "      <td>Some-college</td>\n",
       "      <td>10</td>\n",
       "      <td>Never-married</td>\n",
       "      <td>NaN</td>\n",
       "      <td>Own-child</td>\n",
       "      <td>White</td>\n",
       "      <td>Female</td>\n",
       "      <td>0</td>\n",
       "      <td>0</td>\n",
       "      <td>30</td>\n",
       "      <td>United-States</td>\n",
       "      <td>0</td>\n",
       "    </tr>\n",
       "  </tbody>\n",
       "</table>\n",
       "</div>"
      ],
      "text/plain": [
       "   age  workclass  fnlwgt     education  educational-num      marital-status  \\\n",
       "0   25    Private  226802          11th                7       Never-married   \n",
       "1   38    Private   89814       HS-grad                9  Married-civ-spouse   \n",
       "2   28  Local-gov  336951    Assoc-acdm               12  Married-civ-spouse   \n",
       "3   44    Private  160323  Some-college               10  Married-civ-spouse   \n",
       "4   18        NaN  103497  Some-college               10       Never-married   \n",
       "\n",
       "          occupation relationship   race  gender  capital-gain  capital-loss  \\\n",
       "0  Machine-op-inspct    Own-child  Black    Male             0             0   \n",
       "1    Farming-fishing      Husband  White    Male             0             0   \n",
       "2    Protective-serv      Husband  White    Male             0             0   \n",
       "3  Machine-op-inspct      Husband  Black    Male          7688             0   \n",
       "4                NaN    Own-child  White  Female             0             0   \n",
       "\n",
       "   hours-per-week native-country  income  \n",
       "0              40  United-States       0  \n",
       "1              50  United-States       0  \n",
       "2              40  United-States       1  \n",
       "3              40  United-States       1  \n",
       "4              30  United-States       0  "
      ]
     },
     "execution_count": 219,
     "metadata": {},
     "output_type": "execute_result"
    }
   ],
   "source": [
    "df = df.replace('?',np.NaN)\n",
    "df.head()"
   ]
  },
  {
   "cell_type": "markdown",
   "metadata": {},
   "source": [
    "Let's look at the distributions of these different variables, try to understand them and categorize them into continuous and categoric."
   ]
  },
  {
   "cell_type": "code",
   "execution_count": 191,
   "metadata": {},
   "outputs": [
    {
     "name": "stdout",
     "output_type": "stream",
     "text": [
      "median age: 37.0\n"
     ]
    },
    {
     "data": {
      "image/png": "[encoded data removed]",
      "text/plain": [
       "<Figure size 432x288 with 1 Axes>"
      ]
     },
     "metadata": {
      "needs_background": "light"
     },
     "output_type": "display_data"
    }
   ],
   "source": [
    "print ('median age:',df['age'].median())\n",
    "sns.distplot(df['age'],norm_hist=True,color='blue',kde_kws={'label':'KDE'}) # histogram with the kernel-distribution line.\n",
    "plt.axvline(df['age'].mean(), color = 'r', linestyle = 'dashed', linewidth = 2) # plotting mean line\n",
    "plt.axvline(df['age'].median(),color='b',linewidth=2) # plotting median line\n",
    "plt.show()"
   ]
  },
  {
   "cell_type": "markdown",
   "metadata": {},
   "source": [
    "The 'age' is continuous in nature, mostly centered around 37 for working individuals whose income we are predicting.\n",
    "We can convert this variable into categoric if we want too. Let's think about it later"
   ]
  },
  {
   "cell_type": "code",
   "execution_count": 192,
   "metadata": {},
   "outputs": [
    {
     "name": "stdout",
     "output_type": "stream",
     "text": [
      "median fnlwgt: 178144.5\n"
     ]
    },
    {
     "data": {
      "image/png": "[encoded data removed]",
      "text/plain": [
       "<Figure size 432x288 with 1 Axes>"
      ]
     },
     "metadata": {
      "needs_background": "light"
     },
     "output_type": "display_data"
    }
   ],
   "source": [
    "print ('median fnlwgt:',df['fnlwgt'].median())\n",
    "sns.distplot(df['fnlwgt'],norm_hist=True,color='blue',kde_kws={'label':'KDE'}) # histogram with the kernel-distribution line.\n",
    "plt.axvline(df['fnlwgt'].mean(), color = 'r', linestyle = 'dashed', linewidth = 2) # plotting mean line\n",
    "plt.axvline(df['fnlwgt'].median(),color='b',linewidth=2) # plotting median line\n",
    "plt.show()"
   ]
  },
  {
   "cell_type": "markdown",
   "metadata": {},
   "source": [
    "Thould I don't understand this variable 'fnlwgt', it is continuous and centered at 178144.5 with mean & median very close indicating a normal distribution."
   ]
  },
  {
   "cell_type": "code",
   "execution_count": 193,
   "metadata": {},
   "outputs": [
    {
     "name": "stdout",
     "output_type": "stream",
     "text": [
      "hours-per-week: 40.0\n"
     ]
    },
    {
     "data": {
      "image/png": "[encoded data removed]",
      "text/plain": [
       "<Figure size 432x288 with 1 Axes>"
      ]
     },
     "metadata": {
      "needs_background": "light"
     },
     "output_type": "display_data"
    }
   ],
   "source": [
    "print ('hours-per-week:',df['hours-per-week'].median())\n",
    "sns.distplot(df['hours-per-week'],norm_hist=True,color='blue',kde_kws={'label':'KDE'}) # histogram with the kernel-distribution line.\n",
    "plt.axvline(df['hours-per-week'].mean(), color = 'r', linestyle = 'dashed', linewidth = 2) # plotting mean line\n",
    "plt.axvline(df['hours-per-week'].median(),color='b',linewidth=2) # plotting median line\n",
    "plt.show()"
   ]
  },
  {
   "cell_type": "markdown",
   "metadata": {},
   "source": [
    "The hours-per-week is centered at mostly 40 hours. We can categorize this variable too via binning, let's focus on that as well later."
   ]
  },
  {
   "cell_type": "code",
   "execution_count": 194,
   "metadata": {},
   "outputs": [
    {
     "name": "stdout",
     "output_type": "stream",
     "text": [
      "capital-gain: 0.0\n"
     ]
    },
    {
     "data": {
      "image/png": "[encoded data removed]",
      "text/plain": [
       "<Figure size 432x288 with 1 Axes>"
      ]
     },
     "metadata": {
      "needs_background": "light"
     },
     "output_type": "display_data"
    }
   ],
   "source": [
    "print ('capital-gain:',df['capital-gain'].median())\n",
    "sns.distplot(df['capital-gain'],norm_hist=True,color='blue',kde_kws={'label':'KDE'}) # histogram with the kernel-distribution line.\n",
    "plt.axvline(df['capital-gain'].mean(), color = 'r', linestyle = 'dashed', linewidth = 2) # plotting mean line\n",
    "plt.axvline(df['capital-gain'].median(),color='b',linewidth=2) # plotting median line\n",
    "plt.show()"
   ]
  },
  {
   "cell_type": "code",
   "execution_count": 220,
   "metadata": {},
   "outputs": [
    {
     "name": "stdout",
     "output_type": "stream",
     "text": [
      "[    0  7688  3103  6418  7298  3908 14084  5178 15024 99999  2597  2907\n",
      "  4650  6497  1055  5013 27828  4934  4064  3674  2174 10605  3418   114\n",
      "  2580  3411  4508  4386  8614 13550  6849  2463  3137  2885  2964  1471\n",
      " 10566  2354  1424  1455  3325  4416 25236   594  2105  4787  2829   401\n",
      "  4865  1264  1506 10520  3464  2653 20051  4101  1797  2407  3471  1086\n",
      "  1848 14344  1151  2993  2290 15020  9386  2202  3818  2176  5455 11678\n",
      "  7978  7262  6514 41310  3456  7430  2414  2062 34095  1831  6723  5060\n",
      " 15831  2977  2346  3273  2329  9562  2635  4931  1731  6097   914  7896\n",
      "  5556  1409  3781  3942  2538  3887 25124  7443  5721  1173  4687  6612\n",
      "  6767  2961   991  2036  2936  2050  1111  2228 22040  3432  6360  2009\n",
      "  1639 18481  2387]\n"
     ]
    }
   ],
   "source": [
    "print(df['capital-gain'].unique())"
   ]
  },
  {
   "cell_type": "code",
   "execution_count": 196,
   "metadata": {},
   "outputs": [
    {
     "name": "stdout",
     "output_type": "stream",
     "text": [
      "capital-loss: 0.0\n"
     ]
    },
    {
     "data": {
      "image/png": "[encoded data removed]",
      "text/plain": [
       "<Figure size 432x288 with 1 Axes>"
      ]
     },
     "metadata": {
      "needs_background": "light"
     },
     "output_type": "display_data"
    }
   ],
   "source": [
    "print ('capital-loss:',df['capital-loss'].median())\n",
    "sns.distplot(df['capital-loss'],norm_hist=True,color='blue',kde_kws={'label':'KDE'}) # histogram with the kernel-distribution line.\n",
    "plt.axvline(df['capital-loss'].mean(), color = 'r', linestyle = 'dashed', linewidth = 2) # plotting mean line\n",
    "plt.axvline(df['capital-loss'].median(),color='b',linewidth=2) # plotting median line\n",
    "plt.show()"
   ]
  },
  {
   "cell_type": "code",
   "execution_count": 221,
   "metadata": {},
   "outputs": [
    {
     "name": "stdout",
     "output_type": "stream",
     "text": [
      "91.73866754023177\n",
      "95.3277916547234\n"
     ]
    }
   ],
   "source": [
    "print (df['capital-gain'].value_counts()[0]/df.shape[0]*100)\n",
    "print (df['capital-loss'].value_counts()[0]/df.shape[0]*100)"
   ]
  },
  {
   "cell_type": "markdown",
   "metadata": {},
   "source": [
    "Both 'capital-gain' & 'capital-loss' have median values 0 with value-counts ratio showing more than 90% of the values are 0\n",
    "This means other values in these variables other than 0 could be counted as outliers and hence 0 won't contribute it any way for the classfication of income.\n",
    "Hence, we must remove these 2 variables."
   ]
  },
  {
   "cell_type": "code",
   "execution_count": 222,
   "metadata": {},
   "outputs": [
    {
     "data": {
      "text/plain": [
       "(48842, 13)"
      ]
     },
     "execution_count": 222,
     "metadata": {},
     "output_type": "execute_result"
    }
   ],
   "source": [
    "df = df.drop(['capital-gain','capital-loss'],axis=1)\n",
    "df.shape"
   ]
  },
  {
   "cell_type": "markdown",
   "metadata": {},
   "source": [
    "Let's try to understand Education & educational-num, whether they are same"
   ]
  },
  {
   "cell_type": "code",
   "execution_count": 199,
   "metadata": {},
   "outputs": [
    {
     "name": "stdout",
     "output_type": "stream",
     "text": [
      "9     15784\n",
      "10    10878\n",
      "13     8025\n",
      "14     2657\n",
      "11     2061\n",
      "7      1812\n",
      "12     1601\n",
      "6      1389\n",
      "4       955\n",
      "15      834\n",
      "5       756\n",
      "8       657\n",
      "16      594\n",
      "3       509\n",
      "2       247\n",
      "1        83\n",
      "Name: educational-num, dtype: int64\n",
      "HS-grad         15784\n",
      "Some-college    10878\n",
      "Bachelors        8025\n",
      "Masters          2657\n",
      "Assoc-voc        2061\n",
      "11th             1812\n",
      "Assoc-acdm       1601\n",
      "10th             1389\n",
      "7th-8th           955\n",
      "Prof-school       834\n",
      "9th               756\n",
      "12th              657\n",
      "Doctorate         594\n",
      "5th-6th           509\n",
      "1st-4th           247\n",
      "Preschool          83\n",
      "Name: education, dtype: int64\n"
     ]
    }
   ],
   "source": [
    "print (df['educational-num'].value_counts())\n",
    "print (df['education'].value_counts())"
   ]
  },
  {
   "cell_type": "markdown",
   "metadata": {},
   "source": [
    "They indeed are the same, let's remove education variable, we only need it's numeric labels."
   ]
  },
  {
   "cell_type": "code",
   "execution_count": 223,
   "metadata": {},
   "outputs": [
    {
     "data": {
      "text/plain": [
       "(48842, 12)"
      ]
     },
     "execution_count": 223,
     "metadata": {},
     "output_type": "execute_result"
    }
   ],
   "source": [
    "df = df.drop(['education'],axis=1)\n",
    "df.shape"
   ]
  },
  {
   "cell_type": "markdown",
   "metadata": {},
   "source": [
    "Now the only continuous variables remaining are age,hours-per-week & fnlwgt, let's do outlier removal for both."
   ]
  },
  {
   "cell_type": "markdown",
   "metadata": {},
   "source": [
    "### Outlier Removal"
   ]
  },
  {
   "cell_type": "code",
   "execution_count": 224,
   "metadata": {},
   "outputs": [],
   "source": [
    "for i in ['age','fnlwgt','hours-per-week']:\n",
    "    q25,q75 = np.percentile(df[i],[25,75])\n",
    "    iqr = q75 - q25\n",
    "    maximum = q75 + (iqr*1.5)\n",
    "    minimum = q25 - (iqr*1.5)\n",
    "    df.loc[df[i]>maximum,i]= np.NaN\n",
    "    df.loc[df[i]<minimum,i]= np.NaN"
   ]
  },
  {
   "cell_type": "markdown",
   "metadata": {},
   "source": [
    "missing values after Outlier removal"
   ]
  },
  {
   "cell_type": "code",
   "execution_count": 225,
   "metadata": {},
   "outputs": [
    {
     "data": {
      "text/plain": [
       "age                0.004422\n",
       "workclass          0.057307\n",
       "fnlwgt             0.029749\n",
       "educational-num    0.000000\n",
       "marital-status     0.000000\n",
       "occupation         0.057512\n",
       "relationship       0.000000\n",
       "race               0.000000\n",
       "gender             0.000000\n",
       "hours-per-week     0.276320\n",
       "native-country     0.017546\n",
       "income             0.000000\n",
       "dtype: float64"
      ]
     },
     "execution_count": 225,
     "metadata": {},
     "output_type": "execute_result"
    }
   ],
   "source": [
    "df.isnull().sum()/df.shape[0]"
   ]
  },
  {
   "cell_type": "markdown",
   "metadata": {},
   "source": [
    "Before we do any imputation over missing, we need to first encode the categorical string classes to categorical numbers"
   ]
  },
  {
   "cell_type": "code",
   "execution_count": 226,
   "metadata": {},
   "outputs": [
    {
     "name": "stdout",
     "output_type": "stream",
     "text": [
      "{'educational-num': {1: 0,\n",
      "                     2: 1,\n",
      "                     3: 2,\n",
      "                     4: 3,\n",
      "                     5: 4,\n",
      "                     6: 5,\n",
      "                     7: 6,\n",
      "                     8: 7,\n",
      "                     9: 8,\n",
      "                     10: 9,\n",
      "                     11: 10,\n",
      "                     12: 11,\n",
      "                     13: 12,\n",
      "                     14: 13,\n",
      "                     15: 14,\n",
      "                     16: 15},\n",
      " 'gender': {'Female': 0, 'Male': 1},\n",
      " 'marital-status': {'Divorced': 0,\n",
      "                    'Married-AF-spouse': 1,\n",
      "                    'Married-civ-spouse': 2,\n",
      "                    'Married-spouse-absent': 3,\n",
      "                    'Never-married': 4,\n",
      "                    'Separated': 5,\n",
      "                    'Widowed': 6},\n",
      " 'native-country': {nan: -1,\n",
      "                    'Cambodia': 0,\n",
      "                    'Canada': 1,\n",
      "                    'China': 2,\n",
      "                    'Columbia': 3,\n",
      "                    'Cuba': 4,\n",
      "                    'Dominican-Republic': 5,\n",
      "                    'Ecuador': 6,\n",
      "                    'El-Salvador': 7,\n",
      "                    'England': 8,\n",
      "                    'France': 9,\n",
      "                    'Germany': 10,\n",
      "                    'Greece': 11,\n",
      "                    'Guatemala': 12,\n",
      "                    'Haiti': 13,\n",
      "                    'Holand-Netherlands': 14,\n",
      "                    'Honduras': 15,\n",
      "                    'Hong': 16,\n",
      "                    'Hungary': 17,\n",
      "                    'India': 18,\n",
      "                    'Iran': 19,\n",
      "                    'Ireland': 20,\n",
      "                    'Italy': 21,\n",
      "                    'Jamaica': 22,\n",
      "                    'Japan': 23,\n",
      "                    'Laos': 24,\n",
      "                    'Mexico': 25,\n",
      "                    'Nicaragua': 26,\n",
      "                    'Outlying-US(Guam-USVI-etc)': 27,\n",
      "                    'Peru': 28,\n",
      "                    'Philippines': 29,\n",
      "                    'Poland': 30,\n",
      "                    'Portugal': 31,\n",
      "                    'Puerto-Rico': 32,\n",
      "                    'Scotland': 33,\n",
      "                    'South': 34,\n",
      "                    'Taiwan': 35,\n",
      "                    'Thailand': 36,\n",
      "                    'Trinadad&Tobago': 37,\n",
      "                    'United-States': 38,\n",
      "                    'Vietnam': 39,\n",
      "                    'Yugoslavia': 40},\n",
      " 'occupation': {nan: -1,\n",
      "                'Adm-clerical': 0,\n",
      "                'Armed-Forces': 1,\n",
      "                'Craft-repair': 2,\n",
      "                'Exec-managerial': 3,\n",
      "                'Farming-fishing': 4,\n",
      "                'Handlers-cleaners': 5,\n",
      "                'Machine-op-inspct': 6,\n",
      "                'Other-service': 7,\n",
      "                'Priv-house-serv': 8,\n",
      "                'Prof-specialty': 9,\n",
      "                'Protective-serv': 10,\n",
      "                'Sales': 11,\n",
      "                'Tech-support': 12,\n",
      "                'Transport-moving': 13},\n",
      " 'race': {'Amer-Indian-Eskimo': 0,\n",
      "          'Asian-Pac-Islander': 1,\n",
      "          'Black': 2,\n",
      "          'Other': 3,\n",
      "          'White': 4},\n",
      " 'relationship': {'Husband': 0,\n",
      "                  'Not-in-family': 1,\n",
      "                  'Other-relative': 2,\n",
      "                  'Own-child': 3,\n",
      "                  'Unmarried': 4,\n",
      "                  'Wife': 5},\n",
      " 'workclass': {nan: -1,\n",
      "               'Federal-gov': 0,\n",
      "               'Local-gov': 1,\n",
      "               'Never-worked': 2,\n",
      "               'Private': 3,\n",
      "               'Self-emp-inc': 4,\n",
      "               'Self-emp-not-inc': 5,\n",
      "               'State-gov': 6,\n",
      "               'Without-pay': 7}}\n",
      "    age  workclass    fnlwgt  educational-num  marital-status  occupation  \\\n",
      "0  25.0        3.0  226802.0                6               4         6.0   \n",
      "1  38.0        3.0   89814.0                8               2         4.0   \n",
      "2  28.0        1.0  336951.0               11               2        10.0   \n",
      "3  44.0        3.0  160323.0                9               2         6.0   \n",
      "4  18.0        NaN  103497.0                9               4         NaN   \n",
      "\n",
      "   relationship  race  gender  hours-per-week  native-country  income  \n",
      "0             3     2       1            40.0            38.0       0  \n",
      "1             0     4       1            50.0            38.0       0  \n",
      "2             0     4       1            40.0            38.0       1  \n",
      "3             0     2       1            40.0            38.0       1  \n",
      "4             3     4       0             NaN            38.0       0  \n"
     ]
    }
   ],
   "source": [
    "import pprint\n",
    "encodings= {} # create a dictionary fo refering the original class names.\n",
    "for c in df.drop(['age','fnlwgt','hours-per-week','income'],axis=1).columns:\n",
    "    old_values = df[c].unique()\n",
    "    encodings[c]={}\n",
    "    df[c] = pd.Categorical(df[c])\n",
    "    df[c] = df[c].cat.codes\n",
    "    df[c] = df[c].astype('object')   \n",
    "    new_values = df[c].unique()\n",
    "    for i in range(len(old_values)):\n",
    "        encodings[c][old_values[i]]=new_values[i]\n",
    "\n",
    "pprint.pprint(encodings)\n",
    "\n",
    "df = df.replace(-1,np.NaN) # replace them with original Null values, else they won't be imputed correctly\n",
    "print (df.head())"
   ]
  },
  {
   "cell_type": "code",
   "execution_count": 227,
   "metadata": {},
   "outputs": [
    {
     "data": {
      "text/plain": [
       "age                0.004422\n",
       "workclass          0.057307\n",
       "fnlwgt             0.029749\n",
       "educational-num    0.000000\n",
       "marital-status     0.000000\n",
       "occupation         0.057512\n",
       "relationship       0.000000\n",
       "race               0.000000\n",
       "gender             0.000000\n",
       "hours-per-week     0.276320\n",
       "native-country     0.017546\n",
       "income             0.000000\n",
       "dtype: float64"
      ]
     },
     "execution_count": 227,
     "metadata": {},
     "output_type": "execute_result"
    }
   ],
   "source": [
    "df.isnull().sum()/df.shape[0]"
   ]
  },
  {
   "cell_type": "markdown",
   "metadata": {},
   "source": [
    "The encoding was successfull, let's impute those missing values."
   ]
  },
  {
   "cell_type": "code",
   "execution_count": 228,
   "metadata": {},
   "outputs": [
    {
     "data": {
      "text/plain": [
       "age                0\n",
       "workclass          0\n",
       "fnlwgt             0\n",
       "educational-num    0\n",
       "marital-status     0\n",
       "occupation         0\n",
       "relationship       0\n",
       "race               0\n",
       "gender             0\n",
       "hours-per-week     0\n",
       "native-country     0\n",
       "income             0\n",
       "dtype: int64"
      ]
     },
     "execution_count": 228,
     "metadata": {},
     "output_type": "execute_result"
    }
   ],
   "source": [
    "from sklearn.impute import KNNImputer\n",
    "imputer = KNNImputer(n_neighbors=3)\n",
    "df_array = np.array(df)\n",
    "df = pd.DataFrame(data = np.round(imputer.fit_transform(df_array)),columns = df.columns)\n",
    "df.isnull().sum()"
   ]
  },
  {
   "cell_type": "markdown",
   "metadata": {},
   "source": [
    "### Feature selection"
   ]
  },
  {
   "cell_type": "markdown",
   "metadata": {},
   "source": [
    "Let's perform multiple categoric relation tests w.r.t income"
   ]
  },
  {
   "cell_type": "markdown",
   "metadata": {},
   "source": [
    "#### ANOVA test"
   ]
  },
  {
   "cell_type": "markdown",
   "metadata": {},
   "source": [
    "Tests relationship between independent continuous & categoric target"
   ]
  },
  {
   "cell_type": "code",
   "execution_count": 229,
   "metadata": {},
   "outputs": [
    {
     "name": "stdout",
     "output_type": "stream",
     "text": [
      "related:  ['age', 'fnlwgt', 'hours-per-week']\n",
      "unrelated:  []\n"
     ]
    }
   ],
   "source": [
    "from scipy import stats\n",
    "\n",
    "ANOVA_related =[]\n",
    "ANOVA_unrelated=[]\n",
    "\n",
    "\n",
    "for c in ['age','fnlwgt','hours-per-week']:\n",
    "    fStat, pVal = stats.f_oneway(df[c], df['income'])\n",
    "    #print(col,' P-value: ',pVal,' f-statistic: ',fStat)\n",
    "    if pVal<0.05:\n",
    "        ANOVA_related.append(c)\n",
    "    else:\n",
    "        ANOVA_unrelated.append(c)\n",
    "        \n",
    "print ('related: ',ANOVA_related)\n",
    "print ('unrelated: ',ANOVA_unrelated)"
   ]
  },
  {
   "cell_type": "markdown",
   "metadata": {},
   "source": [
    "#### Chi-squared test"
   ]
  },
  {
   "cell_type": "code",
   "execution_count": 230,
   "metadata": {},
   "outputs": [
    {
     "name": "stdout",
     "output_type": "stream",
     "text": [
      "related:  ['workclass', 'educational-num', 'marital-status', 'occupation', 'relationship', 'race', 'gender', 'native-country']\n",
      "unrelated:  []\n"
     ]
    }
   ],
   "source": [
    "from scipy.stats import chi2_contingency\n",
    "\n",
    "\n",
    "Chi_related =[]\n",
    "Chi_unrelated =[]\n",
    "\n",
    "for c in df.drop(['age','fnlwgt','hours-per-week','income'],axis=1).columns:\n",
    "    chi2, p, dof, ex = chi2_contingency(pd.crosstab(df.income, df[c]))\n",
    "    if p>0.05:\n",
    "        Chi_unrelated.append(c)\n",
    "    else:\n",
    "        Chi_related.append(c)\n",
    "        \n",
    "print ('related: ',Chi_related)\n",
    "print ('unrelated: ',Chi_unrelated)       "
   ]
  },
  {
   "cell_type": "markdown",
   "metadata": {},
   "source": [
    "#### Extra trees classifier"
   ]
  },
  {
   "cell_type": "markdown",
   "metadata": {},
   "source": [
    "it uses a tree-based classifiers approach"
   ]
  },
  {
   "cell_type": "code",
   "execution_count": 231,
   "metadata": {},
   "outputs": [
    {
     "name": "stdout",
     "output_type": "stream",
     "text": [
      "Extra trees- feature importance\n"
     ]
    },
    {
     "data": {
      "image/png": "[encoded data removed]",
      "text/plain": [
       "<Figure size 432x288 with 1 Axes>"
      ]
     },
     "metadata": {
      "needs_background": "light"
     },
     "output_type": "display_data"
    }
   ],
   "source": [
    "from matplotlib import pyplot as plt\n",
    "import seaborn as sns\n",
    "from sklearn.ensemble import ExtraTreesClassifier\n",
    "\n",
    "# on the red wine dataset\n",
    "X = df.iloc[:,:-1]\n",
    "y = df['income']\n",
    "Importances = ExtraTreesClassifier().fit(X,y)\n",
    "#print (redImportances.feature_importances_)\n",
    "\n",
    "# Let's look at the scores visually\n",
    "\n",
    "print ('Extra trees- feature importance')\n",
    "Values = pd.Series(Importances.feature_importances_, index = df.columns[:-1])\n",
    "Values.nlargest(df.shape[1]-1).plot(kind='bar')\n",
    "plt.figsize=(10,15)\n",
    "plt.show()"
   ]
  },
  {
   "cell_type": "markdown",
   "metadata": {},
   "source": [
    "We can see the last 4 variables show very low importances in the graph"
   ]
  },
  {
   "cell_type": "code",
   "execution_count": 232,
   "metadata": {},
   "outputs": [
    {
     "name": "stdout",
     "output_type": "stream",
     "text": [
      "Extra trees -least important 4 features: \n",
      "Index(['race', 'native-country', 'gender', 'workclass'], dtype='object')\n"
     ]
    }
   ],
   "source": [
    "ET_unimportant = Values.nsmallest(4).index\n",
    "print ('Extra trees -least important 4 features: ')\n",
    "print (ET_unimportant)"
   ]
  },
  {
   "cell_type": "markdown",
   "metadata": {},
   "source": [
    "#### Regularization Feature importance"
   ]
  },
  {
   "cell_type": "code",
   "execution_count": 233,
   "metadata": {},
   "outputs": [
    {
     "name": "stdout",
     "output_type": "stream",
     "text": [
      "important:  Index(['hours-per-week', 'native-country'], dtype='object')\n",
      "unimportant:  ['age', 'workclass', 'fnlwgt', 'educational-num', 'marital-status', 'occupation', 'relationship', 'race', 'gender']\n"
     ]
    }
   ],
   "source": [
    "# source: https://towardsdatascience.com/feature-selection-using-regularisation-a3678b71e499\n",
    "from sklearn.linear_model import Lasso, LogisticRegression # Ridge is L2 regularization\n",
    "from sklearn.feature_selection import SelectFromModel\n",
    "\n",
    "# fitting the feature selection model with the Logistic regression data\n",
    "sel_ = SelectFromModel(LogisticRegression(C=1, penalty='l2'))\n",
    "sel_.fit(X,y)\n",
    "\n",
    "\n",
    "# Visualising features that were kept by the lasso regularisation\n",
    "selected_feat = X.columns[(sel_.get_support())] # gives the remaining features\n",
    "LR_unimportant=[i for i in X.columns if i not in selected_feat]\n",
    "\n",
    "print ('important: ',selected_feat)\n",
    "print ('unimportant: ',LR_unimportant)"
   ]
  },
  {
   "cell_type": "markdown",
   "metadata": {},
   "source": [
    "#### Random Forest feature importances"
   ]
  },
  {
   "cell_type": "code",
   "execution_count": 234,
   "metadata": {},
   "outputs": [
    {
     "name": "stdout",
     "output_type": "stream",
     "text": [
      "Random-forest features selected: \n",
      "Index(['age', 'fnlwgt', 'educational-num', 'relationship'], dtype='object')\n",
      "Random forest's not important features: \n",
      "['workclass', 'marital-status', 'occupation', 'race', 'gender', 'hours-per-week', 'native-country']\n"
     ]
    }
   ],
   "source": [
    "from sklearn.ensemble import RandomForestClassifier\n",
    "sel_ = SelectFromModel(RandomForestClassifier())\n",
    "\n",
    "sel_.fit(X, y)\n",
    "\n",
    "\n",
    "#print (sel_.get_support())\n",
    "selected_feat = X.columns[(sel_.get_support())] # gives the remaining features\n",
    "print ('Random-forest features selected: ')\n",
    "print (selected_feat)\n",
    "RF_unimportant = [c for c in X.columns if c not in selected_feat]\n",
    "print ('Random forest\\'s not important features: ')\n",
    "print (RF_unimportant)"
   ]
  },
  {
   "cell_type": "markdown",
   "metadata": {},
   "source": [
    "ANOVA test says all the continuous features have a relationship with target 'income', which even Extra trees classifier shows in it's graph.\n",
    "Chi-Squared test says all the categoric independent features are important.\n",
    "Random Forest and Ridge ression feature importance say there are some variables that are unimportant. Extra Trees classfier too shows there are least important features as well.\n",
    "Let's remove some features based on these results."
   ]
  },
  {
   "cell_type": "code",
   "execution_count": 235,
   "metadata": {},
   "outputs": [
    {
     "data": {
      "text/plain": [
       "['race', 'native-country', 'gender', 'workclass']"
      ]
     },
     "execution_count": 235,
     "metadata": {},
     "output_type": "execute_result"
    }
   ],
   "source": [
    "drop_list = [i for i in ET_unimportant if i in RF_unimportant or LR_unimportant]\n",
    "drop_list"
   ]
  },
  {
   "cell_type": "markdown",
   "metadata": {},
   "source": [
    "Let's remove these variables and form a new dataframe."
   ]
  },
  {
   "cell_type": "code",
   "execution_count": 236,
   "metadata": {},
   "outputs": [
    {
     "name": "stdout",
     "output_type": "stream",
     "text": [
      "(48842, 8)\n"
     ]
    },
    {
     "data": {
      "text/html": [
       "<div>\n",
       "<style scoped>\n",
       "    .dataframe tbody tr th:only-of-type {\n",
       "        vertical-align: middle;\n",
       "    }\n",
       "\n",
       "    .dataframe tbody tr th {\n",
       "        vertical-align: top;\n",
       "    }\n",
       "\n",
       "    .dataframe thead th {\n",
       "        text-align: right;\n",
       "    }\n",
       "</style>\n",
       "<table border=\"1\" class=\"dataframe\">\n",
       "  <thead>\n",
       "    <tr style=\"text-align: right;\">\n",
       "      <th></th>\n",
       "      <th>age</th>\n",
       "      <th>fnlwgt</th>\n",
       "      <th>educational-num</th>\n",
       "      <th>marital-status</th>\n",
       "      <th>occupation</th>\n",
       "      <th>relationship</th>\n",
       "      <th>hours-per-week</th>\n",
       "      <th>income</th>\n",
       "    </tr>\n",
       "  </thead>\n",
       "  <tbody>\n",
       "    <tr>\n",
       "      <th>0</th>\n",
       "      <td>25.0</td>\n",
       "      <td>226802.0</td>\n",
       "      <td>6.0</td>\n",
       "      <td>4.0</td>\n",
       "      <td>6.0</td>\n",
       "      <td>3.0</td>\n",
       "      <td>40.0</td>\n",
       "      <td>0.0</td>\n",
       "    </tr>\n",
       "    <tr>\n",
       "      <th>1</th>\n",
       "      <td>38.0</td>\n",
       "      <td>89814.0</td>\n",
       "      <td>8.0</td>\n",
       "      <td>2.0</td>\n",
       "      <td>4.0</td>\n",
       "      <td>0.0</td>\n",
       "      <td>50.0</td>\n",
       "      <td>0.0</td>\n",
       "    </tr>\n",
       "    <tr>\n",
       "      <th>2</th>\n",
       "      <td>28.0</td>\n",
       "      <td>336951.0</td>\n",
       "      <td>11.0</td>\n",
       "      <td>2.0</td>\n",
       "      <td>10.0</td>\n",
       "      <td>0.0</td>\n",
       "      <td>40.0</td>\n",
       "      <td>1.0</td>\n",
       "    </tr>\n",
       "    <tr>\n",
       "      <th>3</th>\n",
       "      <td>44.0</td>\n",
       "      <td>160323.0</td>\n",
       "      <td>9.0</td>\n",
       "      <td>2.0</td>\n",
       "      <td>6.0</td>\n",
       "      <td>0.0</td>\n",
       "      <td>40.0</td>\n",
       "      <td>1.0</td>\n",
       "    </tr>\n",
       "  </tbody>\n",
       "</table>\n",
       "</div>"
      ],
      "text/plain": [
       "    age    fnlwgt  educational-num  marital-status  occupation  relationship  \\\n",
       "0  25.0  226802.0              6.0             4.0         6.0           3.0   \n",
       "1  38.0   89814.0              8.0             2.0         4.0           0.0   \n",
       "2  28.0  336951.0             11.0             2.0        10.0           0.0   \n",
       "3  44.0  160323.0              9.0             2.0         6.0           0.0   \n",
       "\n",
       "   hours-per-week  income  \n",
       "0            40.0     0.0  \n",
       "1            50.0     0.0  \n",
       "2            40.0     1.0  \n",
       "3            40.0     1.0  "
      ]
     },
     "execution_count": 236,
     "metadata": {},
     "output_type": "execute_result"
    }
   ],
   "source": [
    "df2 = df.drop(drop_list,axis=1)\n",
    "print (df2.shape)\n",
    "df2.head(4)"
   ]
  },
  {
   "cell_type": "markdown",
   "metadata": {},
   "source": [
    "### Feature Normalization"
   ]
  },
  {
   "cell_type": "code",
   "execution_count": 237,
   "metadata": {},
   "outputs": [
    {
     "name": "stdout",
     "output_type": "stream",
     "text": [
      "age :  0.0 1.0\n",
      "fnlwgt :  0.0 1.0\n",
      "hours-per-week :  0.0 1.0\n"
     ]
    },
    {
     "data": {
      "text/html": [
       "<div>\n",
       "<style scoped>\n",
       "    .dataframe tbody tr th:only-of-type {\n",
       "        vertical-align: middle;\n",
       "    }\n",
       "\n",
       "    .dataframe tbody tr th {\n",
       "        vertical-align: top;\n",
       "    }\n",
       "\n",
       "    .dataframe thead th {\n",
       "        text-align: right;\n",
       "    }\n",
       "</style>\n",
       "<table border=\"1\" class=\"dataframe\">\n",
       "  <thead>\n",
       "    <tr style=\"text-align: right;\">\n",
       "      <th></th>\n",
       "      <th>age</th>\n",
       "      <th>fnlwgt</th>\n",
       "      <th>educational-num</th>\n",
       "      <th>marital-status</th>\n",
       "      <th>occupation</th>\n",
       "      <th>relationship</th>\n",
       "      <th>hours-per-week</th>\n",
       "      <th>income</th>\n",
       "    </tr>\n",
       "  </thead>\n",
       "  <tbody>\n",
       "    <tr>\n",
       "      <th>0</th>\n",
       "      <td>0.131148</td>\n",
       "      <td>0.529171</td>\n",
       "      <td>6.0</td>\n",
       "      <td>4.0</td>\n",
       "      <td>6.0</td>\n",
       "      <td>3.0</td>\n",
       "      <td>0.368421</td>\n",
       "      <td>0.0</td>\n",
       "    </tr>\n",
       "    <tr>\n",
       "      <th>1</th>\n",
       "      <td>0.344262</td>\n",
       "      <td>0.191249</td>\n",
       "      <td>8.0</td>\n",
       "      <td>2.0</td>\n",
       "      <td>4.0</td>\n",
       "      <td>0.0</td>\n",
       "      <td>0.894737</td>\n",
       "      <td>0.0</td>\n",
       "    </tr>\n",
       "    <tr>\n",
       "      <th>2</th>\n",
       "      <td>0.180328</td>\n",
       "      <td>0.800887</td>\n",
       "      <td>11.0</td>\n",
       "      <td>2.0</td>\n",
       "      <td>10.0</td>\n",
       "      <td>0.0</td>\n",
       "      <td>0.368421</td>\n",
       "      <td>1.0</td>\n",
       "    </tr>\n",
       "    <tr>\n",
       "      <th>3</th>\n",
       "      <td>0.442623</td>\n",
       "      <td>0.365181</td>\n",
       "      <td>9.0</td>\n",
       "      <td>2.0</td>\n",
       "      <td>6.0</td>\n",
       "      <td>0.0</td>\n",
       "      <td>0.368421</td>\n",
       "      <td>1.0</td>\n",
       "    </tr>\n",
       "    <tr>\n",
       "      <th>4</th>\n",
       "      <td>0.016393</td>\n",
       "      <td>0.225002</td>\n",
       "      <td>9.0</td>\n",
       "      <td>4.0</td>\n",
       "      <td>3.0</td>\n",
       "      <td>3.0</td>\n",
       "      <td>0.368421</td>\n",
       "      <td>0.0</td>\n",
       "    </tr>\n",
       "  </tbody>\n",
       "</table>\n",
       "</div>"
      ],
      "text/plain": [
       "        age    fnlwgt  educational-num  marital-status  occupation  \\\n",
       "0  0.131148  0.529171              6.0             4.0         6.0   \n",
       "1  0.344262  0.191249              8.0             2.0         4.0   \n",
       "2  0.180328  0.800887             11.0             2.0        10.0   \n",
       "3  0.442623  0.365181              9.0             2.0         6.0   \n",
       "4  0.016393  0.225002              9.0             4.0         3.0   \n",
       "\n",
       "   relationship  hours-per-week  income  \n",
       "0           3.0        0.368421     0.0  \n",
       "1           0.0        0.894737     0.0  \n",
       "2           0.0        0.368421     1.0  \n",
       "3           0.0        0.368421     1.0  \n",
       "4           3.0        0.368421     0.0  "
      ]
     },
     "execution_count": 237,
     "metadata": {},
     "output_type": "execute_result"
    }
   ],
   "source": [
    "for c in ['age', 'fnlwgt','hours-per-week']:\n",
    "    df2[c] = (df2[c]-min(df2[c]))/(max(df2[c])-min(df2[c]))\n",
    "    print (c,': ',min(df2[c]),max(df2[c]))\n",
    "    \n",
    "df2.head()"
   ]
  },
  {
   "cell_type": "markdown",
   "metadata": {},
   "source": [
    "There are many classes in the categorical columns in our dataset. We need to create a variable for every class in a variable for setting values as either 0 or 1."
   ]
  },
  {
   "cell_type": "markdown",
   "metadata": {},
   "source": [
    "### One Hot Encoding"
   ]
  },
  {
   "cell_type": "code",
   "execution_count": 238,
   "metadata": {},
   "outputs": [
    {
     "name": "stdout",
     "output_type": "stream",
     "text": [
      "Shape of Data: (48842, 47)\n"
     ]
    },
    {
     "data": {
      "text/html": [
       "<div>\n",
       "<style scoped>\n",
       "    .dataframe tbody tr th:only-of-type {\n",
       "        vertical-align: middle;\n",
       "    }\n",
       "\n",
       "    .dataframe tbody tr th {\n",
       "        vertical-align: top;\n",
       "    }\n",
       "\n",
       "    .dataframe thead th {\n",
       "        text-align: right;\n",
       "    }\n",
       "</style>\n",
       "<table border=\"1\" class=\"dataframe\">\n",
       "  <thead>\n",
       "    <tr style=\"text-align: right;\">\n",
       "      <th></th>\n",
       "      <th>age</th>\n",
       "      <th>fnlwgt</th>\n",
       "      <th>hours-per-week</th>\n",
       "      <th>income</th>\n",
       "      <th>educational-num_0.0</th>\n",
       "      <th>educational-num_1.0</th>\n",
       "      <th>educational-num_2.0</th>\n",
       "      <th>educational-num_3.0</th>\n",
       "      <th>educational-num_4.0</th>\n",
       "      <th>educational-num_5.0</th>\n",
       "      <th>...</th>\n",
       "      <th>occupation_10.0</th>\n",
       "      <th>occupation_11.0</th>\n",
       "      <th>occupation_12.0</th>\n",
       "      <th>occupation_13.0</th>\n",
       "      <th>relationship_0.0</th>\n",
       "      <th>relationship_1.0</th>\n",
       "      <th>relationship_2.0</th>\n",
       "      <th>relationship_3.0</th>\n",
       "      <th>relationship_4.0</th>\n",
       "      <th>relationship_5.0</th>\n",
       "    </tr>\n",
       "  </thead>\n",
       "  <tbody>\n",
       "    <tr>\n",
       "      <th>0</th>\n",
       "      <td>0.131148</td>\n",
       "      <td>0.529171</td>\n",
       "      <td>0.368421</td>\n",
       "      <td>0.0</td>\n",
       "      <td>0.0</td>\n",
       "      <td>0.0</td>\n",
       "      <td>0.0</td>\n",
       "      <td>0.0</td>\n",
       "      <td>0.0</td>\n",
       "      <td>0.0</td>\n",
       "      <td>...</td>\n",
       "      <td>0.0</td>\n",
       "      <td>0.0</td>\n",
       "      <td>0.0</td>\n",
       "      <td>0.0</td>\n",
       "      <td>0.0</td>\n",
       "      <td>0.0</td>\n",
       "      <td>0.0</td>\n",
       "      <td>1.0</td>\n",
       "      <td>0.0</td>\n",
       "      <td>0.0</td>\n",
       "    </tr>\n",
       "    <tr>\n",
       "      <th>1</th>\n",
       "      <td>0.344262</td>\n",
       "      <td>0.191249</td>\n",
       "      <td>0.894737</td>\n",
       "      <td>0.0</td>\n",
       "      <td>0.0</td>\n",
       "      <td>0.0</td>\n",
       "      <td>0.0</td>\n",
       "      <td>0.0</td>\n",
       "      <td>0.0</td>\n",
       "      <td>0.0</td>\n",
       "      <td>...</td>\n",
       "      <td>0.0</td>\n",
       "      <td>0.0</td>\n",
       "      <td>0.0</td>\n",
       "      <td>0.0</td>\n",
       "      <td>1.0</td>\n",
       "      <td>0.0</td>\n",
       "      <td>0.0</td>\n",
       "      <td>0.0</td>\n",
       "      <td>0.0</td>\n",
       "      <td>0.0</td>\n",
       "    </tr>\n",
       "    <tr>\n",
       "      <th>2</th>\n",
       "      <td>0.180328</td>\n",
       "      <td>0.800887</td>\n",
       "      <td>0.368421</td>\n",
       "      <td>1.0</td>\n",
       "      <td>0.0</td>\n",
       "      <td>0.0</td>\n",
       "      <td>0.0</td>\n",
       "      <td>0.0</td>\n",
       "      <td>0.0</td>\n",
       "      <td>0.0</td>\n",
       "      <td>...</td>\n",
       "      <td>1.0</td>\n",
       "      <td>0.0</td>\n",
       "      <td>0.0</td>\n",
       "      <td>0.0</td>\n",
       "      <td>1.0</td>\n",
       "      <td>0.0</td>\n",
       "      <td>0.0</td>\n",
       "      <td>0.0</td>\n",
       "      <td>0.0</td>\n",
       "      <td>0.0</td>\n",
       "    </tr>\n",
       "    <tr>\n",
       "      <th>3</th>\n",
       "      <td>0.442623</td>\n",
       "      <td>0.365181</td>\n",
       "      <td>0.368421</td>\n",
       "      <td>1.0</td>\n",
       "      <td>0.0</td>\n",
       "      <td>0.0</td>\n",
       "      <td>0.0</td>\n",
       "      <td>0.0</td>\n",
       "      <td>0.0</td>\n",
       "      <td>0.0</td>\n",
       "      <td>...</td>\n",
       "      <td>0.0</td>\n",
       "      <td>0.0</td>\n",
       "      <td>0.0</td>\n",
       "      <td>0.0</td>\n",
       "      <td>1.0</td>\n",
       "      <td>0.0</td>\n",
       "      <td>0.0</td>\n",
       "      <td>0.0</td>\n",
       "      <td>0.0</td>\n",
       "      <td>0.0</td>\n",
       "    </tr>\n",
       "    <tr>\n",
       "      <th>4</th>\n",
       "      <td>0.016393</td>\n",
       "      <td>0.225002</td>\n",
       "      <td>0.368421</td>\n",
       "      <td>0.0</td>\n",
       "      <td>0.0</td>\n",
       "      <td>0.0</td>\n",
       "      <td>0.0</td>\n",
       "      <td>0.0</td>\n",
       "      <td>0.0</td>\n",
       "      <td>0.0</td>\n",
       "      <td>...</td>\n",
       "      <td>0.0</td>\n",
       "      <td>0.0</td>\n",
       "      <td>0.0</td>\n",
       "      <td>0.0</td>\n",
       "      <td>0.0</td>\n",
       "      <td>0.0</td>\n",
       "      <td>0.0</td>\n",
       "      <td>1.0</td>\n",
       "      <td>0.0</td>\n",
       "      <td>0.0</td>\n",
       "    </tr>\n",
       "  </tbody>\n",
       "</table>\n",
       "<p>5 rows × 47 columns</p>\n",
       "</div>"
      ],
      "text/plain": [
       "        age    fnlwgt  hours-per-week  income  educational-num_0.0  \\\n",
       "0  0.131148  0.529171        0.368421     0.0                  0.0   \n",
       "1  0.344262  0.191249        0.894737     0.0                  0.0   \n",
       "2  0.180328  0.800887        0.368421     1.0                  0.0   \n",
       "3  0.442623  0.365181        0.368421     1.0                  0.0   \n",
       "4  0.016393  0.225002        0.368421     0.0                  0.0   \n",
       "\n",
       "   educational-num_1.0  educational-num_2.0  educational-num_3.0  \\\n",
       "0                  0.0                  0.0                  0.0   \n",
       "1                  0.0                  0.0                  0.0   \n",
       "2                  0.0                  0.0                  0.0   \n",
       "3                  0.0                  0.0                  0.0   \n",
       "4                  0.0                  0.0                  0.0   \n",
       "\n",
       "   educational-num_4.0  educational-num_5.0  ...  occupation_10.0  \\\n",
       "0                  0.0                  0.0  ...              0.0   \n",
       "1                  0.0                  0.0  ...              0.0   \n",
       "2                  0.0                  0.0  ...              1.0   \n",
       "3                  0.0                  0.0  ...              0.0   \n",
       "4                  0.0                  0.0  ...              0.0   \n",
       "\n",
       "   occupation_11.0  occupation_12.0  occupation_13.0  relationship_0.0  \\\n",
       "0              0.0              0.0              0.0               0.0   \n",
       "1              0.0              0.0              0.0               1.0   \n",
       "2              0.0              0.0              0.0               1.0   \n",
       "3              0.0              0.0              0.0               1.0   \n",
       "4              0.0              0.0              0.0               0.0   \n",
       "\n",
       "   relationship_1.0  relationship_2.0  relationship_3.0  relationship_4.0  \\\n",
       "0               0.0               0.0               1.0               0.0   \n",
       "1               0.0               0.0               0.0               0.0   \n",
       "2               0.0               0.0               0.0               0.0   \n",
       "3               0.0               0.0               0.0               0.0   \n",
       "4               0.0               0.0               1.0               0.0   \n",
       "\n",
       "   relationship_5.0  \n",
       "0               0.0  \n",
       "1               0.0  \n",
       "2               0.0  \n",
       "3               0.0  \n",
       "4               0.0  \n",
       "\n",
       "[5 rows x 47 columns]"
      ]
     },
     "execution_count": 238,
     "metadata": {},
     "output_type": "execute_result"
    }
   ],
   "source": [
    "from sklearn.preprocessing import LabelEncoder\n",
    "from sklearn.preprocessing import OneHotEncoder\n",
    "\n",
    "\n",
    "\n",
    "num_columns = ['age','fnlwgt','hours-per-week','income']\n",
    "cat_columns = [i for i in df2.columns if i not in num_columns ]\n",
    "\n",
    "# Define a function that will intake the raw dataframe and the column name and return a one hot encoded DF\n",
    "def create_ohe(DF, col):\n",
    "    le = LabelEncoder()\n",
    "    a = le.fit_transform(DF[col]).reshape(-1,1)\n",
    "    ohe = OneHotEncoder(sparse=False)\n",
    "    column_names = [col+ \"_\"+ str(i) for i in le.classes_]\n",
    "    return(pd.DataFrame(ohe.fit_transform(a),columns =column_names))\n",
    "\n",
    "#Since the above function converts the column, one at a time\n",
    "#We create a loop to create the final dataset with all features\n",
    "temp = df2[num_columns]\n",
    "for column in cat_columns:\n",
    "    temp_df = create_ohe(df2,column)\n",
    "    temp = pd.concat([temp,temp_df],axis=1)\n",
    "\n",
    "\n",
    "print(\"Shape of Data:\",temp.shape)\n",
    "temp.head()"
   ]
  },
  {
   "cell_type": "markdown",
   "metadata": {},
   "source": [
    "Let's write this data to a .csv file and reuse it"
   ]
  },
  {
   "cell_type": "code",
   "execution_count": null,
   "metadata": {},
   "outputs": [],
   "source": [
    "pd.to_csv(r'D:\\joel\\UDEMY -\\datasets and codes\\Notebooks\\.ipynb_checkpoints\\income prediction\\adult.csv',index=False)\n",
    "temp = pd.read_csv(r'D:\\joel\\UDEMY -\\datasets and codes\\Notebooks\\.ipynb_checkpoints\\income prediction\\adult.csv')"
   ]
  },
  {
   "cell_type": "markdown",
   "metadata": {},
   "source": [
    "Let's split the data into train & test"
   ]
  },
  {
   "cell_type": "code",
   "execution_count": 239,
   "metadata": {},
   "outputs": [
    {
     "name": "stdout",
     "output_type": "stream",
     "text": [
      "Training shape:  (34189, 46) (34189,)\n",
      "Testing shape:  (14653, 46) (14653,)\n",
      "Ratio of 1 & 0 in ytest: Counter({0.0: 11113, 1.0: 3540})\n"
     ]
    }
   ],
   "source": [
    "from sklearn.model_selection import train_test_split\n",
    "from collections import Counter\n",
    "\n",
    "X = temp.drop(['income'],axis=1)\n",
    "y = temp['income']\n",
    "\n",
    "# Let's split the data into train & test before oversampling the training data\n",
    "X_train,X_test,y_train,y_test=train_test_split(X,y,train_size=0.7)\n",
    "print ('Training shape: ',X_train.shape,y_train.shape)\n",
    "print ('Testing shape: ',X_test.shape,y_test.shape)\n",
    "print ('Ratio of 1 & 0 in ytest:',Counter(y_test))"
   ]
  },
  {
   "cell_type": "markdown",
   "metadata": {},
   "source": [
    "Here we need to balance the ratio of 0 to 1, let's do that for the training set."
   ]
  },
  {
   "cell_type": "code",
   "execution_count": 240,
   "metadata": {},
   "outputs": [
    {
     "name": "stderr",
     "output_type": "stream",
     "text": [
      "c:\\python37\\lib\\site-packages\\imblearn\\utils\\_validation.py:638: FutureWarning: Pass sampling_strategy=1 as keyword args. From version 0.9 passing these as positional arguments will result in an error\n",
      "  FutureWarning)\n"
     ]
    },
    {
     "name": "stdout",
     "output_type": "stream",
     "text": [
      "The number of classes before fit Counter({0.0: 26042, 1.0: 8147})\n",
      "The number of classes after fit Counter({0.0: 26042, 1.0: 26042})\n",
      "New training data shape:  (52084, 46) (52084,)\n"
     ]
    }
   ],
   "source": [
    "from imblearn.over_sampling import RandomOverSampler\n",
    "os=RandomOverSampler(1)\n",
    "X_train_os,y_train_os = os.fit_sample(X_train,y_train)\n",
    "print(\"The number of classes before fit {}\".format(Counter(y_train)))\n",
    "print(\"The number of classes after fit {}\".format(Counter(y_train_os)))\n",
    "print ('New training data shape: ',X_train_os.shape,y_train_os.shape)"
   ]
  },
  {
   "cell_type": "markdown",
   "metadata": {},
   "source": [
    "Let's define an error-metric function to judge the model's classifications"
   ]
  },
  {
   "cell_type": "code",
   "execution_count": 241,
   "metadata": {},
   "outputs": [],
   "source": [
    "from sklearn.metrics import accuracy_score,confusion_matrix,classification_report\n",
    "\n",
    "def error_metric(y_true,y_preds):\n",
    "    CM = pd.crosstab(y_true,y_preds) # the confusion matrix\n",
    "    TN = CM.iloc[0,0]\n",
    "    FN = CM.iloc[1,0]\n",
    "    TP = CM.iloc[1,1]\n",
    "    FP = CM.iloc[0,1]\n",
    "    print (classification_report(y_true, y_preds))\n",
    "    print (confusion_matrix(y_true,y_preds))\n",
    "    print ('accuracy score: ',accuracy_score(y_true, y_preds)*100,'%') #check accuracy of model\n",
    "    print ('False-Negative-Rate: ',(FN*100)/(FN+TP),'%') #False Negative rate \n",
    "    print ('true-positive-rate: ',((TP)*100)/(TP+FN),'%')"
   ]
  },
  {
   "cell_type": "markdown",
   "metadata": {},
   "source": [
    "Let's also define a function to plot the AUC-ROC curve"
   ]
  },
  {
   "cell_type": "code",
   "execution_count": 242,
   "metadata": {},
   "outputs": [],
   "source": [
    "from sklearn.metrics import roc_curve, auc, roc_auc_score\n",
    "from matplotlib import pyplot as plt\n",
    "def plotRocAuc(fpr, tpr, thresholds,score):\n",
    "       \n",
    "    # Plot the \"dumb model\" line\n",
    "    plt.plot([0, 1], [0, 1], linestyle='--')\n",
    "    \n",
    "    # Plot the model line\n",
    "    plt.plot(fpr, tpr, marker='.')\n",
    "    plt.text(0.75, 0.25, \"AUC: \" + str(round(score,2)))\n",
    "    \n",
    "    # show the plot\n",
    "    plt.show()"
   ]
  },
  {
   "cell_type": "markdown",
   "metadata": {},
   "source": [
    "### Logistic Regression"
   ]
  },
  {
   "cell_type": "code",
   "execution_count": 243,
   "metadata": {},
   "outputs": [
    {
     "name": "stderr",
     "output_type": "stream",
     "text": [
      "c:\\python37\\lib\\site-packages\\sklearn\\linear_model\\_logistic.py:764: ConvergenceWarning: lbfgs failed to converge (status=1):\n",
      "STOP: TOTAL NO. of ITERATIONS REACHED LIMIT.\n",
      "\n",
      "Increase the number of iterations (max_iter) or scale the data as shown in:\n",
      "    https://scikit-learn.org/stable/modules/preprocessing.html\n",
      "Please also refer to the documentation for alternative solver options:\n",
      "    https://scikit-learn.org/stable/modules/linear_model.html#logistic-regression\n",
      "  extra_warning_msg=_LOGISTIC_SOLVER_CONVERGENCE_MSG)\n"
     ]
    },
    {
     "name": "stdout",
     "output_type": "stream",
     "text": [
      "              precision    recall  f1-score   support\n",
      "\n",
      "         0.0       0.94      0.76      0.84     11113\n",
      "         1.0       0.53      0.84      0.65      3540\n",
      "\n",
      "    accuracy                           0.78     14653\n",
      "   macro avg       0.73      0.80      0.75     14653\n",
      "weighted avg       0.84      0.78      0.79     14653\n",
      "\n",
      "[[8479 2634]\n",
      " [ 573 2967]]\n",
      "accuracy score:  78.11369685388657 %\n",
      "False-Negative-Rate:  16.1864406779661 %\n",
      "true-positive-rate:  83.8135593220339 %\n",
      "None\n"
     ]
    },
    {
     "data": {
      "image/png": "[encoded data removed]",
      "text/plain": [
       "<Figure size 432x288 with 1 Axes>"
      ]
     },
     "metadata": {
      "needs_background": "light"
     },
     "output_type": "display_data"
    }
   ],
   "source": [
    "from sklearn.linear_model import LogisticRegression\n",
    "LR_model = LogisticRegression().fit(X_train_os,y_train_os) \n",
    "LR_preds = LR_model.predict_proba(X_test)\n",
    "print (error_metric(y_test,np.round((LR_preds)[:,1])))\n",
    "LR_fpr,LR_tpr,LR_thresholds = roc_curve(y_test,LR_preds[:,1])\n",
    "LR_score = roc_auc_score(y_test, LR_preds[:,1])\n",
    "plotRocAuc(LR_fpr, LR_tpr, LR_thresholds,LR_score)"
   ]
  },
  {
   "cell_type": "markdown",
   "metadata": {},
   "source": [
    "### Decision Tree Classifier"
   ]
  },
  {
   "cell_type": "code",
   "execution_count": 244,
   "metadata": {},
   "outputs": [
    {
     "name": "stdout",
     "output_type": "stream",
     "text": [
      "              precision    recall  f1-score   support\n",
      "\n",
      "         0.0       0.85      0.85      0.85     11113\n",
      "         1.0       0.53      0.52      0.53      3540\n",
      "\n",
      "    accuracy                           0.77     14653\n",
      "   macro avg       0.69      0.69      0.69     14653\n",
      "weighted avg       0.77      0.77      0.77     14653\n",
      "\n",
      "[[9453 1660]\n",
      " [1688 1852]]\n",
      "accuracy score:  77.15143656589095 %\n",
      "False-Negative-Rate:  47.68361581920904 %\n",
      "true-positive-rate:  52.31638418079096 %\n",
      "None\n"
     ]
    },
    {
     "data": {
      "image/png": "[encoded data removed]",
      "text/plain": [
       "<Figure size 432x288 with 1 Axes>"
      ]
     },
     "metadata": {
      "needs_background": "light"
     },
     "output_type": "display_data"
    }
   ],
   "source": [
    "from sklearn.tree import DecisionTreeClassifier\n",
    "DT_model = DecisionTreeClassifier(criterion='entropy').fit(X_train_os,y_train_os)\n",
    "DT_preds = DT_model.predict_proba(X_test)\n",
    "print(error_metric(y_test,np.round(DT_preds[:,1])))\n",
    "DT_fpr, DT_tpr, DT_thresholds = roc_curve(y_test, DT_preds[:,1])\n",
    "DT_score = roc_auc_score(y_test, DT_preds[:,1])\n",
    "plotRocAuc(DT_fpr, DT_tpr, DT_thresholds,DT_score)"
   ]
  },
  {
   "cell_type": "markdown",
   "metadata": {},
   "source": [
    "### Random Forests Classifier"
   ]
  },
  {
   "cell_type": "code",
   "execution_count": 245,
   "metadata": {},
   "outputs": [
    {
     "name": "stdout",
     "output_type": "stream",
     "text": [
      "              precision    recall  f1-score   support\n",
      "\n",
      "         0.0       0.87      0.87      0.87     11113\n",
      "         1.0       0.60      0.61      0.60      3540\n",
      "\n",
      "    accuracy                           0.81     14653\n",
      "   macro avg       0.74      0.74      0.74     14653\n",
      "weighted avg       0.81      0.81      0.81     14653\n",
      "\n",
      "[[9677 1436]\n",
      " [1397 2143]]\n",
      "accuracy score:  80.66607520644237 %\n",
      "False-Negative-Rate:  39.463276836158194 %\n",
      "true-positive-rate:  60.536723163841806 %\n"
     ]
    },
    {
     "data": {
      "image/png": "[encoded data removed]",
      "text/plain": [
       "<Figure size 432x288 with 1 Axes>"
      ]
     },
     "metadata": {
      "needs_background": "light"
     },
     "output_type": "display_data"
    }
   ],
   "source": [
    "from sklearn.ensemble import RandomForestClassifier\n",
    "RF_model = RandomForestClassifier(n_estimators=100).fit(X_train_os,y_train_os)\n",
    "RF_preds = RF_model.predict_proba(X_test)\n",
    "error_metric(y_test,np.round(RF_preds[:,1]))\n",
    "RF_fpr,RF_tpr,RF_thresholds = roc_curve(y_test,RF_preds[:,1])\n",
    "RF_score = roc_auc_score(y_test, RF_preds[:,1])\n",
    "plotRocAuc(RF_fpr, RF_tpr, RF_thresholds, RF_score)"
   ]
  },
  {
   "cell_type": "markdown",
   "metadata": {},
   "source": [
    "### Naive Bayes"
   ]
  },
  {
   "cell_type": "code",
   "execution_count": 246,
   "metadata": {},
   "outputs": [
    {
     "name": "stdout",
     "output_type": "stream",
     "text": [
      "              precision    recall  f1-score   support\n",
      "\n",
      "         0.0       0.94      0.66      0.77     11113\n",
      "         1.0       0.45      0.87      0.59      3540\n",
      "\n",
      "    accuracy                           0.71     14653\n",
      "   macro avg       0.69      0.76      0.68     14653\n",
      "weighted avg       0.82      0.71      0.73     14653\n",
      "\n",
      "[[7308 3805]\n",
      " [ 452 3088]]\n",
      "accuracy score:  70.94792875179145 %\n",
      "False-Negative-Rate:  12.768361581920903 %\n",
      "true-positive-rate:  87.2316384180791 %\n",
      "None\n"
     ]
    },
    {
     "data": {
      "image/png": "[encoded data removed]",
      "text/plain": [
       "<Figure size 432x288 with 1 Axes>"
      ]
     },
     "metadata": {
      "needs_background": "light"
     },
     "output_type": "display_data"
    }
   ],
   "source": [
    "from sklearn.naive_bayes import GaussianNB\n",
    "NB_model = GaussianNB().fit(X_train_os,y_train_os)\n",
    "NB_preds = NB_model.predict_proba(X_test)\n",
    "print (error_metric(y_test,np.round((NB_preds)[:,1])))\n",
    "NB_fpr,NB_tpr,NB_thresholds = roc_curve(y_test,NB_preds[:,1])\n",
    "NB_score = roc_auc_score(y_test, NB_preds[:,1])\n",
    "plotRocAuc(NB_fpr, NB_tpr, NB_thresholds, NB_score)"
   ]
  },
  {
   "cell_type": "markdown",
   "metadata": {},
   "source": [
    "### K-Nearest Neighbours"
   ]
  },
  {
   "cell_type": "code",
   "execution_count": 247,
   "metadata": {},
   "outputs": [
    {
     "name": "stdout",
     "output_type": "stream",
     "text": [
      "              precision    recall  f1-score   support\n",
      "\n",
      "         0.0       0.91      0.75      0.82     11113\n",
      "         1.0       0.49      0.76      0.60      3540\n",
      "\n",
      "    accuracy                           0.75     14653\n",
      "   macro avg       0.70      0.76      0.71     14653\n",
      "weighted avg       0.81      0.75      0.77     14653\n",
      "\n",
      "[[8358 2755]\n",
      " [ 857 2683]]\n",
      "accuracy score:  75.34975772879274 %\n",
      "False-Negative-Rate:  24.2090395480226 %\n",
      "true-positive-rate:  75.7909604519774 %\n",
      "None\n"
     ]
    },
    {
     "data": {
      "image/png": "[encoded data removed]",
      "text/plain": [
       "<Figure size 432x288 with 1 Axes>"
      ]
     },
     "metadata": {
      "needs_background": "light"
     },
     "output_type": "display_data"
    }
   ],
   "source": [
    "from sklearn.neighbors import KNeighborsClassifier\n",
    "K_model = KNeighborsClassifier(n_neighbors=5).fit(X_train_os,y_train_os)\n",
    "K_preds = K_model.predict_proba(X_test)\n",
    "print (error_metric(y_test,np.round((K_preds)[:,1])))\n",
    "K_fpr,K_tpr,K_thresholds = roc_curve(y_test,K_preds[:,1])\n",
    "K_score = roc_auc_score(y_test, K_preds[:,1])\n",
    "plotRocAuc(K_fpr, K_tpr, K_thresholds, K_score)"
   ]
  },
  {
   "cell_type": "markdown",
   "metadata": {},
   "source": [
    "### ADABoost Classifier"
   ]
  },
  {
   "cell_type": "code",
   "execution_count": 248,
   "metadata": {},
   "outputs": [
    {
     "name": "stdout",
     "output_type": "stream",
     "text": [
      "              precision    recall  f1-score   support\n",
      "\n",
      "         0.0       0.94      0.77      0.84     11113\n",
      "         1.0       0.53      0.84      0.65      3540\n",
      "\n",
      "    accuracy                           0.78     14653\n",
      "   macro avg       0.74      0.81      0.75     14653\n",
      "weighted avg       0.84      0.78      0.80     14653\n",
      "\n",
      "[[8505 2608]\n",
      " [ 549 2991]]\n",
      "accuracy score:  78.4549239063673 %\n",
      "False-Negative-Rate:  15.508474576271187 %\n",
      "true-positive-rate:  84.49152542372882 %\n"
     ]
    },
    {
     "data": {
      "image/png": "[encoded data removed]",
      "text/plain": [
       "<Figure size 432x288 with 1 Axes>"
      ]
     },
     "metadata": {
      "needs_background": "light"
     },
     "output_type": "display_data"
    }
   ],
   "source": [
    "from sklearn.ensemble import AdaBoostClassifier\n",
    "ada_classifier=AdaBoostClassifier().fit(X_train_os,y_train_os)\n",
    "ADA_preds = ada_classifier.predict_proba(X_test)\n",
    "ADA_fpr, ADA_tpr, ADA_thresholds = roc_curve(y_test, ADA_preds[:,1])\n",
    "ADA_score = roc_auc_score(y_test, ADA_preds[:,1])\n",
    "error_metric(y_test,np.round(ADA_preds[:,1]))\n",
    "plotRocAuc(ADA_fpr, ADA_tpr, ADA_thresholds, ADA_score)"
   ]
  },
  {
   "cell_type": "markdown",
   "metadata": {},
   "source": [
    "### XGBoost Classifier"
   ]
  },
  {
   "cell_type": "code",
   "execution_count": 249,
   "metadata": {},
   "outputs": [
    {
     "name": "stdout",
     "output_type": "stream",
     "text": [
      "              precision    recall  f1-score   support\n",
      "\n",
      "         0.0       0.93      0.79      0.85     11113\n",
      "         1.0       0.55      0.81      0.65      3540\n",
      "\n",
      "    accuracy                           0.79     14653\n",
      "   macro avg       0.74      0.80      0.75     14653\n",
      "weighted avg       0.84      0.79      0.80     14653\n",
      "\n",
      "[[8734 2379]\n",
      " [ 670 2870]]\n",
      "accuracy score:  79.19197433972566 %\n",
      "False-Negative-Rate:  18.926553672316384 %\n",
      "true-positive-rate:  81.07344632768361 %\n"
     ]
    },
    {
     "data": {
      "image/png": "[encoded data removed]",
      "text/plain": [
       "<Figure size 432x288 with 1 Axes>"
      ]
     },
     "metadata": {
      "needs_background": "light"
     },
     "output_type": "display_data"
    }
   ],
   "source": [
    "from xgboost import XGBClassifier\n",
    "XG_model = XGBClassifier()\n",
    "XG_model = XG_model.fit(X_train_os, y_train_os)\n",
    "XG_preds = XG_model.predict_proba(X_test)\n",
    "XG_fpr, XG_tpr, XG_thresholds = roc_curve(y_test, XG_preds[:,1])\n",
    "XG_score = roc_auc_score(y_test, XG_preds[:,1])\n",
    "error_metric(y_test,np.round(XG_preds[:,1]))\n",
    "plotRocAuc(XG_fpr, XG_tpr, XG_thresholds, XG_score)\n",
    "\n",
    "# Predicting the Test set results\n",
    "\n"
   ]
  },
  {
   "cell_type": "markdown",
   "metadata": {},
   "source": [
    "### Neural Network"
   ]
  },
  {
   "cell_type": "code",
   "execution_count": 251,
   "metadata": {},
   "outputs": [
    {
     "name": "stdout",
     "output_type": "stream",
     "text": [
      "(36458, 46) (36458,)\n",
      "(15626, 46) (15626,)\n",
      "Epoch 1/5\n",
      "570/570 [==============================] - 2s 4ms/step - loss: 0.4997 - accuracy: 0.7626 - val_loss: 0.4408 - val_accuracy: 0.7944\n",
      "Epoch 2/5\n",
      "570/570 [==============================] - 1s 1ms/step - loss: 0.4352 - accuracy: 0.7960 - val_loss: 0.4345 - val_accuracy: 0.7989\n",
      "Epoch 3/5\n",
      "570/570 [==============================] - 1s 1ms/step - loss: 0.4308 - accuracy: 0.7988 - val_loss: 0.4382 - val_accuracy: 0.7961\n",
      "Epoch 4/5\n",
      "570/570 [==============================] - 1s 1ms/step - loss: 0.4297 - accuracy: 0.7992 - val_loss: 0.4333 - val_accuracy: 0.8020\n",
      "Epoch 5/5\n",
      "570/570 [==============================] - 1s 2ms/step - loss: 0.4295 - accuracy: 0.7989 - val_loss: 0.4325 - val_accuracy: 0.8032\n",
      "WARNING:tensorflow:From <ipython-input-251-e9501fac97cd>:20: Sequential.predict_proba (from tensorflow.python.keras.engine.sequential) is deprecated and will be removed after 2021-01-01.\n",
      "Instructions for updating:\n",
      "Please use `model.predict()` instead.\n",
      "(14653, 1)\n",
      "458/458 [==============================] - 0s 767us/step - loss: 0.4251 - accuracy: 0.7839\n",
      "loss :  0.4250849187374115\n",
      "accuracy :  0.7838667631149292\n"
     ]
    },
    {
     "data": {
      "image/png": "[encoded data removed]",
      "text/plain": [
       "<Figure size 432x288 with 1 Axes>"
      ]
     },
     "metadata": {
      "needs_background": "light"
     },
     "output_type": "display_data"
    },
    {
     "name": "stdout",
     "output_type": "stream",
     "text": [
      "              precision    recall  f1-score   support\n",
      "\n",
      "         0.0       0.94      0.77      0.84     11113\n",
      "         1.0       0.53      0.83      0.65      3540\n",
      "\n",
      "    accuracy                           0.78     14653\n",
      "   macro avg       0.73      0.80      0.75     14653\n",
      "weighted avg       0.84      0.78      0.80     14653\n",
      "\n",
      "[[8531 2582]\n",
      " [ 585 2955]]\n",
      "accuracy score:  78.38667849587115 %\n",
      "False-Negative-Rate:  16.52542372881356 %\n",
      "true-positive-rate:  83.47457627118644 %\n"
     ]
    },
    {
     "data": {
      "image/png": "[encoded data removed]",
      "text/plain": [
       "<Figure size 432x288 with 1 Axes>"
      ]
     },
     "metadata": {
      "needs_background": "light"
     },
     "output_type": "display_data"
    }
   ],
   "source": [
    "from keras import models\n",
    "from keras import layers\n",
    "\n",
    "def build_model():\n",
    "    model = models.Sequential()\n",
    "    model.add(layers.Dense(64, activation='sigmoid', input_shape=(X_train_os.shape[1],)))\n",
    "    model.add(layers.Dense(64, activation='sigmoid'))\n",
    "    model.add(layers.Dense(1, activation='sigmoid')) # because of multi-class labels\n",
    "    # defining the optimizer and loss and accuracy parameters\n",
    "    model.compile(optimizer='rmsprop',loss='binary_crossentropy',metrics=['accuracy'])\n",
    "    return model\n",
    "\n",
    "# testing how the individual model with sampLe parameters scores on test data\n",
    "X_train_os2, x_val, y_train_os2, y_val = train_test_split(X_train_os,y_train_os,train_size=0.7)\n",
    "print (X_train_os2.shape, y_train_os2.shape)\n",
    "print (x_val.shape,y_val.shape)\n",
    "model = build_model()\n",
    "history = model.fit(X_train_os2, y_train_os2, batch_size=64, epochs=5, validation_data=(x_val, y_val))\n",
    "\n",
    "DL_preds = model.predict_proba(X_test)\n",
    "print (DL_preds.shape)\n",
    "test_results = model.evaluate(X_test,y_test)\n",
    "for i in range(len(test_results)):\n",
    "    print (model.metrics_names[i],': ',test_results[i])\n",
    "\n",
    "DL_preds2 = [round(i[0]) for i in DL_preds]\n",
    "\n",
    "\n",
    "import matplotlib.pyplot as plt\n",
    "loss = history.history['loss']\n",
    "val_loss = history.history['val_loss']\n",
    "epochs = range(1, len(loss) + 1)\n",
    "plt.plot(epochs, loss, 'bo', label='Training loss')\n",
    "plt.plot(epochs, val_loss, 'b', label='Validation loss')\n",
    "plt.title('Training and validation loss')\n",
    "plt.xlabel('Epochs')\n",
    "plt.ylabel('Loss')\n",
    "plt.legend()\n",
    "plt.show()\n",
    "\n",
    "DL_fpr, DL_tpr, DL_thresholds = roc_curve(y_test, DL_preds)\n",
    "DL_score = roc_auc_score(y_test, DL_preds)\n",
    "error_metric(y_test,np.array(DL_preds2))\n",
    "plotRocAuc(DL_fpr, DL_tpr, DL_thresholds, DL_score)"
   ]
  },
  {
   "cell_type": "markdown",
   "metadata": {},
   "source": [
    "## CONCLUSION"
   ]
  },
  {
   "cell_type": "markdown",
   "metadata": {},
   "source": [
    "AMong all the models applied above, Naive Bayes with 12.76 % FNR and 0.59 F1 score and the DNN with 16% FNR and 0.65 F1 score seem good because of their low False-Negative Rates and decent F1-score. But because we don't know which class to put more emphasis on to penalize the incorrect classifications, we will go with the model with better F1-score among these 2 which is the DNN."
   ]
  },
  {
   "cell_type": "markdown",
   "metadata": {},
   "source": [
    "### Thus, the Deep-Neural-network is the suitable model for this problem."
   ]
  }
 ],
 "metadata": {
  "kernelspec": {
   "display_name": "Python 3",
   "language": "python",
   "name": "python3"
  },
  "language_info": {
   "codemirror_mode": {
    "name": "ipython",
    "version": 3
   },
   "file_extension": ".py",
   "mimetype": "text/x-python",
   "name": "python",
   "nbconvert_exporter": "python",
   "pygments_lexer": "ipython3",
   "version": "3.7.2"
  }
 },
 "nbformat": 4,
 "nbformat_minor": 2
}
